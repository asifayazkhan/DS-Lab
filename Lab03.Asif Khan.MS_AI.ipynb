{
 "cells": [
  {
   "cell_type": "markdown",
   "id": "e77946b0",
   "metadata": {},
   "source": [
    "# Lab03: Loops and Functions in python programming\n",
    "# Asif Khan MS-AI"
   ]
  },
  {
   "cell_type": "markdown",
   "id": "a42f2901",
   "metadata": {},
   "source": [
    "# Question#01\n",
    "a). Create a for loop that take input from the user for their hobby 5 times, then appends each one\n",
    "to hobbies.\n",
    "b). Write a while loop to display the values of the Rating is less than 6.\n",
    "Ratings = [10, 9.5, 10, 8, 7.5, 5, 10, 10]"
   ]
  },
  {
   "cell_type": "code",
   "execution_count": 27,
   "id": "e73003ec",
   "metadata": {},
   "outputs": [
    {
     "name": "stdout",
     "output_type": "stream",
     "text": [
      "Enter your 5 hobbies\n",
      "cricket\n",
      "reading\n",
      "swiming\n",
      "gaming\n",
      "study\n",
      "['cricket', 'reading', 'swiming', 'gaming', 'study']\n"
     ]
    }
   ],
   "source": [
    "#a). Create a for loop that take input from the user for their hobby 5 times, then appends each oneto hobbies.\n",
    "hobbies=[]\n",
    "print(\"Enter your 5 hobbies\")\n",
    "for i in range(5):\n",
    "    hob=str(input())\n",
    "    hobbies.append(hob)\n",
    "print(hobbies)\n"
   ]
  },
  {
   "cell_type": "code",
   "execution_count": 36,
   "id": "1827f0f1",
   "metadata": {},
   "outputs": [
    {
     "name": "stdout",
     "output_type": "stream",
     "text": [
      "Rating Less than 6 are following: \n",
      " 5\n"
     ]
    }
   ],
   "source": [
    "#b). Write a while loop to display the values of the Rating is less than 6.Ratings = [10, 9.5, 10, 8, 7.5, 5, 10, 10]\n",
    "Ratings = [10, 9.5, 10, 8, 7.5, 5, 10, 10,1]\n",
    "i=0\n",
    "while i < len(Ratings):\n",
    "    if Ratings[i]<6:\n",
    "        print(\"Rating Less than 6 are following: \\n\",Ratings[i])\n",
    "    i=i+1"
   ]
  },
  {
   "cell_type": "markdown",
   "id": "ba37ad00",
   "metadata": {},
   "source": [
    "# Question#02\n",
    "In the below python object the score of each letter is given. Define a function that takes a string\n",
    "as input (it must be your name without space) and returns the equivalent score for that input."
   ]
  },
  {
   "cell_type": "code",
   "execution_count": 145,
   "id": "88ee0eaf",
   "metadata": {},
   "outputs": [
    {
     "name": "stdout",
     "output_type": "stream",
     "text": [
      "The score for asifkhan is :\n",
      " 11145411\n"
     ]
    }
   ],
   "source": [
    "def score_cal(name):\n",
    "    my_dic={\"a\":1,\"c\":3,\"b\":3,\"e\":1,\"d\":2,\"g\":2,\"f\":4,\"i\":1,\"h\":4,\"k\":5,\"j\":8,\n",
    "            \"m\":3,\"l\":1,\"o\":1,\"n\":1,\"q\":10,\"p\":3,\"s\":1,\"r\":1,\"u\":1,\"t\":1,\"w\":4,\n",
    "            \"v\":4,\"y\":4,\"x\":8,\"z\":10}\n",
    "    lst=[]\n",
    "    for i in name:\n",
    "        if i in my_dic.keys():\n",
    "            lst.append(my_dic[i])\n",
    "    score=''.join(str(e) for e in lst)        \n",
    "    return score\n",
    "   # print(my_dic.keys())\n",
    "name='asifkhan'          \n",
    "sco=score_cal(name)\n",
    "print(\"The score for {} is :\\n\".format(name),sco)\n",
    "          "
   ]
  },
  {
   "cell_type": "markdown",
   "id": "76f29e26",
   "metadata": {},
   "source": [
    "# Question #03\n",
    "a). Make a function to create and print a list where the values are square of numbers between 1\n",
    "and 15. \n",
    "\n",
    "b). Defined a function that check whether a given number is perfect or not. Perfect Number"
   ]
  },
  {
   "cell_type": "code",
   "execution_count": 79,
   "id": "0d262a10",
   "metadata": {},
   "outputs": [
    {
     "name": "stdout",
     "output_type": "stream",
     "text": [
      "[1, 4, 9, 16, 25, 36, 49, 64, 81, 100, 121, 144, 169, 196, 225]\n"
     ]
    }
   ],
   "source": [
    "#a). Make a function to create and print a list where the values are square of numbers between 1 and 15.\n",
    "def square():\n",
    "    list=[]\n",
    "    for i in range(1,16):\n",
    "        list.append(i*i)\n",
    "    print(list)\n",
    "\n",
    "square()"
   ]
  },
  {
   "cell_type": "code",
   "execution_count": 140,
   "id": "2167fc74",
   "metadata": {},
   "outputs": [
    {
     "name": "stdout",
     "output_type": "stream",
     "text": [
      "enter the number:\n",
      "6\n",
      "6 is a perfect number\n"
     ]
    }
   ],
   "source": [
    "def perfect_number(number):\n",
    "    perf=[]\n",
    "    for i in range(1,number):\n",
    "        \n",
    "        if number%i==0:\n",
    "            perf.append(i)\n",
    "    if sum(perf) == number:\n",
    "        print(\"{} is a perfect number\".format(number))\n",
    "    else :\n",
    "        print(\"{} is not a perfect number\".format(number))\n",
    "print(\"enter the number:\")\n",
    "number=int(input())\n",
    "perfect_number(number)          \n",
    "    "
   ]
  }
 ],
 "metadata": {
  "kernelspec": {
   "display_name": "Python 3 (ipykernel)",
   "language": "python",
   "name": "python3"
  },
  "language_info": {
   "codemirror_mode": {
    "name": "ipython",
    "version": 3
   },
   "file_extension": ".py",
   "mimetype": "text/x-python",
   "name": "python",
   "nbconvert_exporter": "python",
   "pygments_lexer": "ipython3",
   "version": "3.9.13"
  }
 },
 "nbformat": 4,
 "nbformat_minor": 5
}
